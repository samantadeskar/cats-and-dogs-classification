{
  "nbformat": 4,
  "nbformat_minor": 0,
  "metadata": {
    "colab": {
      "name": "MackePsi.ipynb",
      "provenance": [],
      "collapsed_sections": []
    },
    "kernelspec": {
      "name": "python3",
      "display_name": "Python 3"
    },
    "accelerator": "GPU"
  },
  "cells": [
    {
      "cell_type": "code",
      "metadata": {
        "id": "pkP_YSd-C92t",
        "colab_type": "code",
        "colab": {}
      },
      "source": [
        "# Needed depenecies\n",
        "\n",
        "!pip install h5py\n",
        "!pip install tensorflow-gpu\n",
        "!pip install wandb"
      ],
      "execution_count": null,
      "outputs": []
    },
    {
      "cell_type": "code",
      "metadata": {
        "id": "zh0wi0wIDBUu",
        "colab_type": "code",
        "colab": {}
      },
      "source": [
        "# Imports\n",
        "\n",
        "import h5py\n",
        "import wandb\n",
        "import numpy as np\n",
        "import cv2\n",
        "import tensorflow as tf\n",
        "from tensorflow.keras import layers\n",
        "from tensorflow.keras.preprocessing.image import ImageDataGenerator\n",
        "from wandb.keras import WandbCallback\n",
        "tf.test.gpu_device_name()"
      ],
      "execution_count": null,
      "outputs": []
    },
    {
      "cell_type": "markdown",
      "metadata": {
        "id": "5IymabNlDGiT",
        "colab_type": "text"
      },
      "source": [
        "## Loading data"
      ]
    },
    {
      "cell_type": "code",
      "metadata": {
        "id": "6YAUDseqDHxo",
        "colab_type": "code",
        "colab": {}
      },
      "source": [
        "# Connecting to google drive\n",
        "\n",
        "from google.colab import drive\n",
        "drive.mount('/content/drive')"
      ],
      "execution_count": null,
      "outputs": []
    },
    {
      "cell_type": "code",
      "metadata": {
        "id": "sv31oejvDOOV",
        "colab_type": "code",
        "colab": {}
      },
      "source": [
        "# Fetch data from drive\n",
        "\n",
        "training_data = h5py.File('/content/drive/My Drive/Colab Notebooks/ruap/Data/data.h5', 'r')"
      ],
      "execution_count": null,
      "outputs": []
    },
    {
      "cell_type": "code",
      "metadata": {
        "id": "eTTwFr8ODXg3",
        "colab_type": "code",
        "colab": {}
      },
      "source": [
        "# Checking if data loaded correctly\n",
        "print(list(training_data.keys()))"
      ],
      "execution_count": null,
      "outputs": []
    },
    {
      "cell_type": "code",
      "metadata": {
        "id": "VXHo181ZDYVM",
        "colab_type": "code",
        "colab": {}
      },
      "source": [
        "# Loading data into variables\n",
        "\n",
        "x_data = training_data['x_data'][()]\n",
        "y_data = training_data['y_data'][()]"
      ],
      "execution_count": null,
      "outputs": []
    },
    {
      "cell_type": "code",
      "metadata": {
        "id": "lnKEb54mhIlB",
        "colab_type": "code",
        "colab": {}
      },
      "source": [
        "# Shuffling data\n",
        "\n",
        "np.random.seed(75)\n",
        "np.random.shuffle(x_data)\n",
        "np.random.seed(75)\n",
        "np.random.shuffle(y_data)"
      ],
      "execution_count": null,
      "outputs": []
    },
    {
      "cell_type": "code",
      "metadata": {
        "id": "yHPYbGslhJ8_",
        "colab_type": "code",
        "colab": {}
      },
      "source": [
        "# Spliting data into train, val, test (60%, 25%, 15%)\n",
        "\n",
        "x_train = x_data[0:4800]\n",
        "y_train = y_data[0:4800]\n",
        "\n",
        "x_val = x_data[4800:6400]\n",
        "y_val = y_data[4800:6400]\n",
        "\n",
        "x_test = x_data[6400:]\n",
        "y_test = y_data[6400:]"
      ],
      "execution_count": null,
      "outputs": []
    },
    {
      "cell_type": "code",
      "metadata": {
        "id": "JiK-rl0aDdD5",
        "colab_type": "code",
        "colab": {}
      },
      "source": [
        "#Data augmentation (finnal version Augmentation 5)\n",
        "\n",
        "train_datagen = ImageDataGenerator(\n",
        "    width_shift_range=[-20, 20],\n",
        "    height_shift_range=[-20, 20],\n",
        "    horizontal_flip=True\n",
        "    )\n",
        "\n",
        "train_data = train_datagen.flow(x_train, y_train, batch_size=64)"
      ],
      "execution_count": null,
      "outputs": []
    },
    {
      "cell_type": "markdown",
      "metadata": {
        "id": "gncII6KBDmm-",
        "colab_type": "text"
      },
      "source": [
        "## Models"
      ]
    },
    {
      "cell_type": "code",
      "metadata": {
        "id": "peb2PE8LDiUa",
        "colab_type": "code",
        "colab": {}
      },
      "source": [
        "# Function for creating MobileNet instance\n",
        "\n",
        "def create_MobileNet():\n",
        "\n",
        "    # Fetching MobileNetV2 from Tensorflow lib\n",
        "    mobileNet = tf.keras.applications.MobileNetV2(input_shape=(224, 224, 3))\n",
        "\n",
        "    # Disabling training for all layers\n",
        "    for (index, layer) in enumerate(mobileNet.layers):\n",
        "      mobileNet.layers[index].trainable = False\n",
        "\n",
        "    # Adding my layers on top of MobileNetV2 (Best result model)\n",
        "    model = tf.keras.Sequential([\n",
        "        mobileNet,\n",
        "        tf.keras.layers.Dense(1024, activation='relu'),\n",
        "        tf.keras.layers.Dense(512, activation='relu'),\n",
        "        tf.keras.layers.Dropout(0.5),\n",
        "        tf.keras.layers.Dense(37, activation='softmax')\n",
        "        ])\n",
        "\n",
        "    # Compile parameter\n",
        "    model.compile(\n",
        "        optimizer='adam',\n",
        "        loss='sparse_categorical_crossentropy',\n",
        "        metrics=['accuracy']\n",
        "        )\n",
        "\n",
        "    return model"
      ],
      "execution_count": null,
      "outputs": []
    },
    {
      "cell_type": "code",
      "metadata": {
        "id": "dOv71IsSVExg",
        "colab_type": "code",
        "colab": {}
      },
      "source": [
        "# Function for creating custom model instance\n",
        "\n",
        "def create_customModel():\n",
        "\n",
        "  # Model consists of layers put together sequentially\n",
        "  model = tf.keras.Sequential()\n",
        "\n",
        "  # Convolutional layers (CNN) and MaxPooling layers\n",
        "  model.add(tf.keras.layers.Conv2D(32, kernel_size=(3, 3), activation='relu', input_shape=(224, 224, 3)))\n",
        "  model.add(tf.keras.layers.Conv2D(64, (3, 3), activation='relu', padding='same'))\n",
        "  model.add(tf.keras.layers.MaxPooling2D(pool_size=(2, 2)))\n",
        "  model.add(tf.keras.layers.Conv2D(128, (3, 3), activation='relu', padding='same'))\n",
        "  model.add(tf.keras.layers.MaxPooling2D(pool_size=(2, 2)))\n",
        "  model.add(tf.keras.layers.Conv2D(256, (3, 3), activation='relu', padding='same'))\n",
        "  model.add(tf.keras.layers.MaxPooling2D(pool_size=(2, 2)))\n",
        "  model.add(tf.keras.layers.Dropout(0.5))\n",
        "\n",
        "  # Layer for flattening CNN's\n",
        "  model.add(tf.keras.layers.Flatten())\n",
        "\n",
        "  # Basic layers\n",
        "  model.add(tf.keras.layers.Dense(256, activation='relu'))\n",
        "  model.add(tf.keras.layers.Dropout(0.5))\n",
        "  model.add(tf.keras.layers.Dense(37, activation='softmax'))\n",
        "\n",
        "  # Compile parameters\n",
        "  model.compile(loss=tf.keras.losses.sparse_categorical_crossentropy,\n",
        "                optimizer=tf.keras.optimizers.Adam(),\n",
        "                metrics=['accuracy'])\n",
        "  \n",
        "  return model"
      ],
      "execution_count": null,
      "outputs": []
    },
    {
      "cell_type": "markdown",
      "metadata": {
        "id": "b0kO2WvBIamM",
        "colab_type": "text"
      },
      "source": [
        "## Running model"
      ]
    },
    {
      "cell_type": "code",
      "metadata": {
        "id": "vsoEfwDKIbhV",
        "colab_type": "code",
        "colab": {}
      },
      "source": [
        "# Creating model and printing model summary\n",
        "\n",
        "model = create_customModel()\n",
        "model.summary()"
      ],
      "execution_count": null,
      "outputs": []
    },
    {
      "cell_type": "code",
      "metadata": {
        "id": "I22ocxq0IhxB",
        "colab_type": "code",
        "colab": {}
      },
      "source": [
        "#Initialize run on wandb\n",
        "\n",
        "run = wandb.init(project=\"MackePsi\", entity=\"samantadeskar\", name=\"cnn-32-64-128-256-(3,3)-256-dropout-augm5-fin\")"
      ],
      "execution_count": null,
      "outputs": []
    },
    {
      "cell_type": "code",
      "metadata": {
        "id": "uE0hFx3tIsgv",
        "colab_type": "code",
        "colab": {}
      },
      "source": [
        "# Training\n",
        "\n",
        "epochs = 50\n",
        "batch_size = 64\n",
        "model.fit(train_data, batch_size=batch_size, epochs=epochs, validation_data=(x_val, y_val), callbacks=[WandbCallback()])"
      ],
      "execution_count": null,
      "outputs": []
    },
    {
      "cell_type": "code",
      "metadata": {
        "id": "pBOztLQYilhp",
        "colab_type": "code",
        "colab": {}
      },
      "source": [
        "#Logging accuracy on test data\n",
        "\n",
        "wandb.log({\"Test image accuracy\":model.evaluate(x_test, y_test, verbose=1)[1]})"
      ],
      "execution_count": null,
      "outputs": []
    },
    {
      "cell_type": "code",
      "metadata": {
        "id": "0BtO8Yj8I-2h",
        "colab_type": "code",
        "colab": {}
      },
      "source": [
        "#Convert and save model for tensorflow.js\n",
        "\n",
        "!pip install tensorflowjs\n",
        "import tensorflowjs as tfjs\n",
        "tfjs.converters.save_keras_model(model, \"/content/drive/My Drive/Colab Notebooks/ruap/Model/cnn-32-64-128-256-(3,3)-256-dropout-augm5-fin\")"
      ],
      "execution_count": null,
      "outputs": []
    }
  ]
}